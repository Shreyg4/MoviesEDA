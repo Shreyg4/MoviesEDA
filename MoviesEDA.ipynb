{
 "cells": [
  {
   "cell_type": "code",
   "execution_count": 1,
   "id": "f3cfc4f5-a399-493f-aeb8-3eaf82f0f762",
   "metadata": {},
   "outputs": [],
   "source": [
    "import pandas as pd\n",
    "import numpy as np\n",
    "import matplotlib.pyplot as plt\n",
    "np.set_printoptions(legacy='1.25')"
   ]
  },
  {
   "cell_type": "markdown",
   "id": "7b31201c-6a52-48c2-814e-6615bd9be896",
   "metadata": {},
   "source": [
    "# Comparing Movies in different streaming services\n",
    "* Is there a correlation between the genre of a movie and the country in which they are made?"
   ]
  },
  {
   "cell_type": "markdown",
   "id": "08c7a727-991e-4a1f-a7fe-c05572e63f5c",
   "metadata": {},
   "source": [
    "# Cleaning Data"
   ]
  },
  {
   "cell_type": "code",
   "execution_count": 2,
   "id": "356c787f-4c80-452d-b980-b9871d5babf2",
   "metadata": {
    "scrolled": true
   },
   "outputs": [],
   "source": [
    "netflix = pd.read_csv(\"netflix_titles.csv\")\n",
    "amazon = pd.read_csv(\"amazon_prime_titles.csv\")\n",
    "disney = pd.read_csv(\"disney_plus_titles.csv\")"
   ]
  },
  {
   "cell_type": "code",
   "execution_count": 3,
   "id": "11645610-658f-440c-8baf-02cf4af9e3f3",
   "metadata": {
    "scrolled": true
   },
   "outputs": [],
   "source": [
    "def filter_data(platform):\n",
    "    # Removing any TV show type\n",
    "    platform = platform[platform[\"type\"] == \"Movie\"]\n",
    "    # Drop rows with missing values in country or listed_in\n",
    "    platform = platform.dropna(subset=[\"country\", \"listed_in\"])\n",
    "    # Focusing on Necessary Columns\n",
    "    platform = platform[[\"title\", \"country\", \"listed_in\"]]\n",
    "    return platform\n",
    "\n",
    "netflix = filter_data(netflix)\n",
    "amazon = filter_data(amazon)\n",
    "disney = filter_data(disney)"
   ]
  },
  {
   "cell_type": "code",
   "execution_count": 4,
   "id": "e61216e5-9e1a-4750-8023-958346dcebc1",
   "metadata": {},
   "outputs": [],
   "source": [
    "def split_commas(platform):\n",
    "    platform[\"listed_in\"] = platform[\"listed_in\"].str.split(\", \")\n",
    "    platform = platform.explode(\"listed_in\")\n",
    "    platform[\"country\"] = platform[\"country\"].str.split(\", \")\n",
    "    platform = platform.explode(\"country\")\n",
    "    return platform\n",
    "\n",
    "netflix = split_commas(netflix)\n",
    "amazon = split_commas(amazon)\n",
    "disney = split_commas(disney)"
   ]
  },
  {
   "cell_type": "code",
   "execution_count": 5,
   "id": "6b467271-b8f3-4cb7-bb5e-173df6b5f14c",
   "metadata": {},
   "outputs": [
    {
     "data": {
      "text/html": [
       "<div>\n",
       "<style scoped>\n",
       "    .dataframe tbody tr th:only-of-type {\n",
       "        vertical-align: middle;\n",
       "    }\n",
       "\n",
       "    .dataframe tbody tr th {\n",
       "        vertical-align: top;\n",
       "    }\n",
       "\n",
       "    .dataframe thead th {\n",
       "        text-align: right;\n",
       "    }\n",
       "</style>\n",
       "<table border=\"1\" class=\"dataframe\">\n",
       "  <thead>\n",
       "    <tr style=\"text-align: right;\">\n",
       "      <th></th>\n",
       "      <th>title</th>\n",
       "      <th>country</th>\n",
       "      <th>listed_in</th>\n",
       "    </tr>\n",
       "  </thead>\n",
       "  <tbody>\n",
       "    <tr>\n",
       "      <th>0</th>\n",
       "      <td>Dick Johnson Is Dead</td>\n",
       "      <td>United States</td>\n",
       "      <td>Documentaries</td>\n",
       "    </tr>\n",
       "    <tr>\n",
       "      <th>7</th>\n",
       "      <td>Sankofa</td>\n",
       "      <td>United States</td>\n",
       "      <td>Dramas</td>\n",
       "    </tr>\n",
       "    <tr>\n",
       "      <th>7</th>\n",
       "      <td>Sankofa</td>\n",
       "      <td>Ghana</td>\n",
       "      <td>Dramas</td>\n",
       "    </tr>\n",
       "    <tr>\n",
       "      <th>7</th>\n",
       "      <td>Sankofa</td>\n",
       "      <td>Burkina Faso</td>\n",
       "      <td>Dramas</td>\n",
       "    </tr>\n",
       "    <tr>\n",
       "      <th>7</th>\n",
       "      <td>Sankofa</td>\n",
       "      <td>United Kingdom</td>\n",
       "      <td>Dramas</td>\n",
       "    </tr>\n",
       "    <tr>\n",
       "      <th>...</th>\n",
       "      <td>...</td>\n",
       "      <td>...</td>\n",
       "      <td>...</td>\n",
       "    </tr>\n",
       "    <tr>\n",
       "      <th>8804</th>\n",
       "      <td>Zombieland</td>\n",
       "      <td>United States</td>\n",
       "      <td>Horror Movies</td>\n",
       "    </tr>\n",
       "    <tr>\n",
       "      <th>8805</th>\n",
       "      <td>Zoom</td>\n",
       "      <td>United States</td>\n",
       "      <td>Children &amp; Family Movies</td>\n",
       "    </tr>\n",
       "    <tr>\n",
       "      <th>8805</th>\n",
       "      <td>Zoom</td>\n",
       "      <td>United States</td>\n",
       "      <td>Comedies</td>\n",
       "    </tr>\n",
       "    <tr>\n",
       "      <th>8806</th>\n",
       "      <td>Zubaan</td>\n",
       "      <td>India</td>\n",
       "      <td>Dramas</td>\n",
       "    </tr>\n",
       "    <tr>\n",
       "      <th>8806</th>\n",
       "      <td>Zubaan</td>\n",
       "      <td>India</td>\n",
       "      <td>Music &amp; Musicals</td>\n",
       "    </tr>\n",
       "  </tbody>\n",
       "</table>\n",
       "<p>12668 rows × 3 columns</p>\n",
       "</div>"
      ],
      "text/plain": [
       "                     title         country                 listed_in\n",
       "0     Dick Johnson Is Dead   United States             Documentaries\n",
       "7                  Sankofa   United States                    Dramas\n",
       "7                  Sankofa           Ghana                    Dramas\n",
       "7                  Sankofa    Burkina Faso                    Dramas\n",
       "7                  Sankofa  United Kingdom                    Dramas\n",
       "...                    ...             ...                       ...\n",
       "8804            Zombieland   United States             Horror Movies\n",
       "8805                  Zoom   United States  Children & Family Movies\n",
       "8805                  Zoom   United States                  Comedies\n",
       "8806                Zubaan           India                    Dramas\n",
       "8806                Zubaan           India          Music & Musicals\n",
       "\n",
       "[12668 rows x 3 columns]"
      ]
     },
     "execution_count": 5,
     "metadata": {},
     "output_type": "execute_result"
    }
   ],
   "source": [
    "netflix = netflix[netflix[\"listed_in\"] != \"International Movies\"]\n",
    "netflix = netflix[netflix[\"listed_in\"] != \"Movies\"]\n",
    "netflix"
   ]
  },
  {
   "cell_type": "code",
   "execution_count": 6,
   "id": "62317900-7caf-4548-9ee5-4208605a50e5",
   "metadata": {},
   "outputs": [],
   "source": [
    "def set_indexes(platform):\n",
    "    platform = platform.set_index([\"country\", \"listed_in\"]).sort_values(by=[\"country\", \"listed_in\"])\n",
    "    return platform\n",
    "\n",
    "netflix = set_indexes(netflix)\n",
    "amazon = set_indexes(amazon)\n",
    "disney = set_indexes(disney)"
   ]
  },
  {
   "cell_type": "code",
   "execution_count": null,
   "id": "1412d091-be13-47ed-97bd-bce65713701d",
   "metadata": {},
   "outputs": [],
   "source": []
  },
  {
   "cell_type": "code",
   "execution_count": null,
   "id": "2682c393-175f-42f3-be99-1ec6fc9c1d97",
   "metadata": {},
   "outputs": [],
   "source": []
  },
  {
   "cell_type": "code",
   "execution_count": null,
   "id": "7157437a-904c-4788-b457-2f2ed4c0c9d9",
   "metadata": {},
   "outputs": [],
   "source": []
  },
  {
   "cell_type": "code",
   "execution_count": null,
   "id": "15d9f001-ccef-45de-8110-8e7b765f382c",
   "metadata": {},
   "outputs": [],
   "source": []
  },
  {
   "cell_type": "code",
   "execution_count": null,
   "id": "708a8678-af3b-4234-ac7a-e798d8ae92cb",
   "metadata": {},
   "outputs": [],
   "source": []
  },
  {
   "cell_type": "code",
   "execution_count": null,
   "id": "cd407407-53ba-4e90-97e7-02190a76caf9",
   "metadata": {},
   "outputs": [],
   "source": []
  },
  {
   "cell_type": "code",
   "execution_count": null,
   "id": "9ee92dea-e682-49c0-8669-9a9444eff8a4",
   "metadata": {},
   "outputs": [],
   "source": []
  },
  {
   "cell_type": "code",
   "execution_count": null,
   "id": "73b8476c-c8b5-4566-9058-865dfcd0b469",
   "metadata": {},
   "outputs": [],
   "source": []
  },
  {
   "cell_type": "code",
   "execution_count": null,
   "id": "ff9e407c-dc9f-46fd-b4d5-045f02d21049",
   "metadata": {},
   "outputs": [],
   "source": []
  },
  {
   "cell_type": "code",
   "execution_count": null,
   "id": "0bca4c02-f664-4083-92b4-f420e283c35d",
   "metadata": {},
   "outputs": [],
   "source": []
  }
 ],
 "metadata": {
  "kernelspec": {
   "display_name": "Python 3 (ipykernel)",
   "language": "python",
   "name": "python3"
  },
  "language_info": {
   "codemirror_mode": {
    "name": "ipython",
    "version": 3
   },
   "file_extension": ".py",
   "mimetype": "text/x-python",
   "name": "python",
   "nbconvert_exporter": "python",
   "pygments_lexer": "ipython3",
   "version": "3.13.5"
  }
 },
 "nbformat": 4,
 "nbformat_minor": 5
}

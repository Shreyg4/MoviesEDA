{
 "cells": [
  {
   "cell_type": "code",
   "execution_count": 1,
   "id": "f3cfc4f5-a399-493f-aeb8-3eaf82f0f762",
   "metadata": {},
   "outputs": [],
   "source": [
    "import pandas as pd\n",
    "import numpy as np\n",
    "import matplotlib.pyplot as plt\n",
    "np.set_printoptions(legacy='1.25')"
   ]
  },
  {
   "cell_type": "markdown",
   "id": "7b31201c-6a52-48c2-814e-6615bd9be896",
   "metadata": {},
   "source": [
    "# Comparing Movies in different streaming services\n",
    "## Is there a correlation between the genre of a movie and the country in which they are made?"
   ]
  },
  {
   "cell_type": "code",
   "execution_count": 2,
   "id": "356c787f-4c80-452d-b980-b9871d5babf2",
   "metadata": {
    "scrolled": true
   },
   "outputs": [],
   "source": [
    "netflix = pd.read_csv(\"netflix_titles.csv\")\n",
    "amazon = pd.read_csv(\"amazon_prime_titles.csv\")\n",
    "disney = pd.read_csv(\"disney_plus_titles.csv\")"
   ]
  },
  {
   "cell_type": "markdown",
   "id": "08c7a727-991e-4a1f-a7fe-c05572e63f5c",
   "metadata": {},
   "source": [
    "# Cleaning/Filtering Data"
   ]
  },
  {
   "cell_type": "markdown",
   "id": "8a180f64-0088-4521-8520-e91445b03365",
   "metadata": {},
   "source": [
    "* The filter_data function removes all uneccessary data and cleans out any rows with missing values in the country or listed_in columns"
   ]
  },
  {
   "cell_type": "code",
   "execution_count": 3,
   "id": "11645610-658f-440c-8baf-02cf4af9e3f3",
   "metadata": {
    "scrolled": true
   },
   "outputs": [],
   "source": [
    "def filter_data(platform):\n",
    "    # Removing any TV show type\n",
    "    platform = platform[platform[\"type\"] == \"Movie\"]\n",
    "    # Drop rows with missing values in country or listed_in\n",
    "    platform = platform.dropna(subset=[\"country\", \"listed_in\"])\n",
    "    # Focusing on Necessary Columns\n",
    "    platform = platform[[\"title\", \"country\", \"listed_in\"]]\n",
    "    return platform\n",
    "\n",
    "netflix = filter_data(netflix)\n",
    "amazon = filter_data(amazon)\n",
    "disney = filter_data(disney)"
   ]
  },
  {
   "cell_type": "markdown",
   "id": "1b673f18-0330-4342-8df8-29ef168aac81",
   "metadata": {},
   "source": [
    "* Split_commas function splits any rows with multiple countries and genres\n",
    "* It then makes duplicates for each country and genre pair. Example:\n",
    "  * Spider-Man: Into the Spider-Verse, United States, Action & Adventure\n",
    "  * Spider-Man: Into the Spider-Verse, United States, Comedies"
   ]
  },
  {
   "cell_type": "code",
   "execution_count": 4,
   "id": "e61216e5-9e1a-4750-8023-958346dcebc1",
   "metadata": {},
   "outputs": [],
   "source": [
    "def split_commas(platform):\n",
    "    platform[\"listed_in\"] = platform[\"listed_in\"].str.split(\", \")\n",
    "    platform = platform.explode(\"listed_in\")\n",
    "    platform[\"country\"] = platform[\"country\"].str.split(\", \")\n",
    "    platform = platform.explode(\"country\")\n",
    "    # Fixes Netflix data set-specific problem where some data has a comma but no values after the comma\n",
    "    platform[\"listed_in\"] = platform[\"listed_in\"].str.replace(\",\", \"\")\n",
    "    platform[\"country\"] = platform[\"country\"].str.replace(\",\", \"\")\n",
    "\n",
    "    platform[\"listed_in\"] = platform[\"listed_in\"].str.strip()\n",
    "    platform[\"country\"] = platform[\"country\"].str.strip()\n",
    "    return platform\n",
    "\n",
    "netflix = split_commas(netflix)\n",
    "amazon = split_commas(amazon)\n",
    "disney = split_commas(disney)"
   ]
  },
  {
   "cell_type": "markdown",
   "id": "7efe1c47-99cc-4e3b-bdf4-c443f871373e",
   "metadata": {},
   "source": [
    "* Removing categories that do not represent a genre\n",
    "* Additional filtering and cleaning for platform-specific issues"
   ]
  },
  {
   "cell_type": "code",
   "execution_count": 5,
   "id": "6b467271-b8f3-4cb7-bb5e-173df6b5f14c",
   "metadata": {},
   "outputs": [],
   "source": [
    "def remove_category(platform, categories_to_remove):\n",
    "    # Keep only the rows that are NOT in the categories_to_remove list\n",
    "    return platform[~platform[\"listed_in\"].isin(categories_to_remove)]\n",
    "\n",
    "netflix = remove_category(netflix, [\"International Movies\", \"Movies\", \"Independent Movies\", \n",
    "                                    \"Anime Features\", \"Cult Movies\", \"LGBTQ Movies\", \"Classic Movies\"])\n",
    "\n",
    "amazon = remove_category(amazon, [\"International\", \"Special Interest\", \"Arthouse\", \n",
    "                                  \"Animation\", \"LGBTQ\", \"Young Adult Audience\", \"Music Videos and Concerts\", \"Entertainment\", \"and Culture\"])\n",
    "swap = {\n",
    "    \"Arts\": \"Arts, Entertainment, and Culture\"\n",
    "}\n",
    "\n",
    "amazon[\"listed_in\"] = amazon[\"listed_in\"].replace(swap)\n",
    "\n",
    "disney = remove_category(disney, [\"Animation\", ])"
   ]
  },
  {
   "cell_type": "code",
   "execution_count": 6,
   "id": "62317900-7caf-4548-9ee5-4208605a50e5",
   "metadata": {},
   "outputs": [],
   "source": [
    "def set_indexes(platform):\n",
    "    platform = platform.set_index([\"country\", \"listed_in\"]).sort_values(by=[\"country\", \"listed_in\"])\n",
    "    return platform\n",
    "\n",
    "netflix = set_indexes(netflix)\n",
    "amazon = set_indexes(amazon)\n",
    "disney = set_indexes(disney)"
   ]
  },
  {
   "cell_type": "code",
   "execution_count": 13,
   "id": "0bca4c02-f664-4083-92b4-f420e283c35d",
   "metadata": {},
   "outputs": [
    {
     "data": {
      "text/html": [
       "<div>\n",
       "<style scoped>\n",
       "    .dataframe tbody tr th:only-of-type {\n",
       "        vertical-align: middle;\n",
       "    }\n",
       "\n",
       "    .dataframe tbody tr th {\n",
       "        vertical-align: top;\n",
       "    }\n",
       "\n",
       "    .dataframe thead th {\n",
       "        text-align: right;\n",
       "    }\n",
       "</style>\n",
       "<table border=\"1\" class=\"dataframe\">\n",
       "  <thead>\n",
       "    <tr style=\"text-align: right;\">\n",
       "      <th></th>\n",
       "      <th></th>\n",
       "      <th>title</th>\n",
       "    </tr>\n",
       "    <tr>\n",
       "      <th>country</th>\n",
       "      <th>listed_in</th>\n",
       "      <th></th>\n",
       "    </tr>\n",
       "  </thead>\n",
       "  <tbody>\n",
       "    <tr>\n",
       "      <th rowspan=\"3\" valign=\"top\">Angola</th>\n",
       "      <th>Action-Adventure</th>\n",
       "      <td>Into the Okavango</td>\n",
       "    </tr>\n",
       "    <tr>\n",
       "      <th>Animals &amp; Nature</th>\n",
       "      <td>Into the Okavango</td>\n",
       "    </tr>\n",
       "    <tr>\n",
       "      <th>Documentary</th>\n",
       "      <td>Into the Okavango</td>\n",
       "    </tr>\n",
       "    <tr>\n",
       "      <th rowspan=\"2\" valign=\"top\">Australia</th>\n",
       "      <th>Action-Adventure</th>\n",
       "      <td>Shang-Chi and The Legend of The Ten Rings</td>\n",
       "    </tr>\n",
       "    <tr>\n",
       "      <th>Action-Adventure</th>\n",
       "      <td>Strange Magic</td>\n",
       "    </tr>\n",
       "    <tr>\n",
       "      <th>...</th>\n",
       "      <th>...</th>\n",
       "      <td>...</td>\n",
       "    </tr>\n",
       "    <tr>\n",
       "      <th rowspan=\"5\" valign=\"top\">United States</th>\n",
       "      <th>Western</th>\n",
       "      <td>Oklahoma!</td>\n",
       "    </tr>\n",
       "    <tr>\n",
       "      <th>Western</th>\n",
       "      <td>Tall Tale</td>\n",
       "    </tr>\n",
       "    <tr>\n",
       "      <th>Western</th>\n",
       "      <td>The Apple Dumpling Gang</td>\n",
       "    </tr>\n",
       "    <tr>\n",
       "      <th>Western</th>\n",
       "      <td>The Apple Dumpling Gang Rides Again</td>\n",
       "    </tr>\n",
       "    <tr>\n",
       "      <th>Western</th>\n",
       "      <td>The Castaway Cowboy</td>\n",
       "    </tr>\n",
       "  </tbody>\n",
       "</table>\n",
       "<p>3238 rows × 1 columns</p>\n",
       "</div>"
      ],
      "text/plain": [
       "                                                                    title\n",
       "country       listed_in                                                  \n",
       "Angola        Action-Adventure                          Into the Okavango\n",
       "              Animals & Nature                          Into the Okavango\n",
       "              Documentary                               Into the Okavango\n",
       "Australia     Action-Adventure  Shang-Chi and The Legend of The Ten Rings\n",
       "              Action-Adventure                              Strange Magic\n",
       "...                                                                   ...\n",
       "United States Western                                           Oklahoma!\n",
       "              Western                                           Tall Tale\n",
       "              Western                             The Apple Dumpling Gang\n",
       "              Western                 The Apple Dumpling Gang Rides Again\n",
       "              Western                                 The Castaway Cowboy\n",
       "\n",
       "[3238 rows x 1 columns]"
      ]
     },
     "execution_count": 13,
     "metadata": {},
     "output_type": "execute_result"
    }
   ],
   "source": [
    "disney"
   ]
  }
 ],
 "metadata": {
  "kernelspec": {
   "display_name": "Python 3 (ipykernel)",
   "language": "python",
   "name": "python3"
  },
  "language_info": {
   "codemirror_mode": {
    "name": "ipython",
    "version": 3
   },
   "file_extension": ".py",
   "mimetype": "text/x-python",
   "name": "python",
   "nbconvert_exporter": "python",
   "pygments_lexer": "ipython3",
   "version": "3.13.5"
  }
 },
 "nbformat": 4,
 "nbformat_minor": 5
}

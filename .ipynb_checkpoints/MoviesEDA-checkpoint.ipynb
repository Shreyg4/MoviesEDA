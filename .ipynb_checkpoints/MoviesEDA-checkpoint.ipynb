{
 "cells": [
  {
   "cell_type": "code",
   "execution_count": 1,
   "id": "f3cfc4f5-a399-493f-aeb8-3eaf82f0f762",
   "metadata": {},
   "outputs": [],
   "source": [
    "import pandas as pd\n",
    "import numpy as np\n",
    "import matplotlib.pyplot as plt\n",
    "np.set_printoptions(legacy='1.25')"
   ]
  },
  {
   "cell_type": "markdown",
   "id": "7b31201c-6a52-48c2-814e-6615bd9be896",
   "metadata": {},
   "source": [
    "# Comparing Movies in different streaming services\n",
    "* Find out which genre of movies each country creates the most"
   ]
  },
  {
   "cell_type": "markdown",
   "id": "08c7a727-991e-4a1f-a7fe-c05572e63f5c",
   "metadata": {},
   "source": [
    "# Cleaning Data"
   ]
  },
  {
   "cell_type": "code",
   "execution_count": 2,
   "id": "356c787f-4c80-452d-b980-b9871d5babf2",
   "metadata": {
    "scrolled": true
   },
   "outputs": [],
   "source": [
    "netflix = pd.read_csv(\"netflix_titles.csv\")"
   ]
  },
  {
   "cell_type": "code",
   "execution_count": 3,
   "id": "11645610-658f-440c-8baf-02cf4af9e3f3",
   "metadata": {
    "scrolled": true
   },
   "outputs": [],
   "source": [
    "def filter_data(platform):\n",
    "    # Removing any TV show type\n",
    "    platform = platform[platform[\"type\"] == \"Movie\"]\n",
    "    # Drop rows with missing values in country or listed_in\n",
    "    platform = platform.dropna(subset=[\"country\", \"listed_in\"])\n",
    "    # Focusing on Necessary Columns\n",
    "    platform = platform[[\"title\", \"country\", \"listed_in\"]]\n",
    "    return platform\n",
    "\n",
    "netflix = filter_data(netflix)"
   ]
  },
  {
   "cell_type": "code",
   "execution_count": 4,
   "id": "e61216e5-9e1a-4750-8023-958346dcebc1",
   "metadata": {},
   "outputs": [],
   "source": [
    "def split_commas(platform):\n",
    "    platform[\"listed_in\"] = platform[\"listed_in\"].str.split(\", \")\n",
    "    platform = platform.explode(\"listed_in\")\n",
    "    platform[\"country\"] = platform[\"country\"].str.split(\", \")\n",
    "    platform = platform.explode(\"country\")\n",
    "    return platform\n",
    "\n",
    "netflix = split_commas(netflix)"
   ]
  },
  {
   "cell_type": "code",
   "execution_count": 5,
   "id": "62317900-7caf-4548-9ee5-4208605a50e5",
   "metadata": {},
   "outputs": [],
   "source": [
    "netflix = netflix.set_index([\"country\", \"listed_in\"]).sort_index()"
   ]
  },
  {
   "cell_type": "code",
   "execution_count": 6,
   "id": "5c9b0757-8cc8-44ec-a681-3a591144885c",
   "metadata": {},
   "outputs": [
    {
     "data": {
      "text/html": [
       "<div>\n",
       "<style scoped>\n",
       "    .dataframe tbody tr th:only-of-type {\n",
       "        vertical-align: middle;\n",
       "    }\n",
       "\n",
       "    .dataframe tbody tr th {\n",
       "        vertical-align: top;\n",
       "    }\n",
       "\n",
       "    .dataframe thead th {\n",
       "        text-align: right;\n",
       "    }\n",
       "</style>\n",
       "<table border=\"1\" class=\"dataframe\">\n",
       "  <thead>\n",
       "    <tr style=\"text-align: right;\">\n",
       "      <th></th>\n",
       "      <th></th>\n",
       "      <th>title</th>\n",
       "    </tr>\n",
       "    <tr>\n",
       "      <th>country</th>\n",
       "      <th>listed_in</th>\n",
       "      <th></th>\n",
       "    </tr>\n",
       "  </thead>\n",
       "  <tbody>\n",
       "    <tr>\n",
       "      <th rowspan=\"2\" valign=\"top\">Afghanistan</th>\n",
       "      <th>Documentaries</th>\n",
       "      <td>The Land of the Enlightened</td>\n",
       "    </tr>\n",
       "    <tr>\n",
       "      <th>International Movies</th>\n",
       "      <td>The Land of the Enlightened</td>\n",
       "    </tr>\n",
       "    <tr>\n",
       "      <th rowspan=\"2\" valign=\"top\">Albania</th>\n",
       "      <th>Dramas</th>\n",
       "      <td>Forgive Us Our Debts</td>\n",
       "    </tr>\n",
       "    <tr>\n",
       "      <th>International Movies</th>\n",
       "      <td>Forgive Us Our Debts</td>\n",
       "    </tr>\n",
       "    <tr>\n",
       "      <th>Algeria</th>\n",
       "      <th>Classic Movies</th>\n",
       "      <td>Alexandria ... Why?</td>\n",
       "    </tr>\n",
       "    <tr>\n",
       "      <th>...</th>\n",
       "      <th>...</th>\n",
       "      <td>...</td>\n",
       "    </tr>\n",
       "    <tr>\n",
       "      <th rowspan=\"5\" valign=\"top\">Zimbabwe</th>\n",
       "      <th>Documentaries</th>\n",
       "      <td>Trophy</td>\n",
       "    </tr>\n",
       "    <tr>\n",
       "      <th>International Movies</th>\n",
       "      <td>Cook Off</td>\n",
       "    </tr>\n",
       "    <tr>\n",
       "      <th>International Movies</th>\n",
       "      <td>Democrats</td>\n",
       "    </tr>\n",
       "    <tr>\n",
       "      <th>International Movies</th>\n",
       "      <td>Trophy</td>\n",
       "    </tr>\n",
       "    <tr>\n",
       "      <th>Romantic Movies</th>\n",
       "      <td>Cook Off</td>\n",
       "    </tr>\n",
       "  </tbody>\n",
       "</table>\n",
       "<p>16015 rows × 1 columns</p>\n",
       "</div>"
      ],
      "text/plain": [
       "                                                        title\n",
       "country     listed_in                                        \n",
       "Afghanistan Documentaries         The Land of the Enlightened\n",
       "            International Movies  The Land of the Enlightened\n",
       "Albania     Dramas                       Forgive Us Our Debts\n",
       "            International Movies         Forgive Us Our Debts\n",
       "Algeria     Classic Movies                Alexandria ... Why?\n",
       "...                                                       ...\n",
       "Zimbabwe    Documentaries                              Trophy\n",
       "            International Movies                     Cook Off\n",
       "            International Movies                    Democrats\n",
       "            International Movies                       Trophy\n",
       "            Romantic Movies                          Cook Off\n",
       "\n",
       "[16015 rows x 1 columns]"
      ]
     },
     "execution_count": 6,
     "metadata": {},
     "output_type": "execute_result"
    }
   ],
   "source": [
    "netflix"
   ]
  },
  {
   "cell_type": "code",
   "execution_count": null,
   "id": "10d281ac-f0d6-4f96-814c-c58e4d0b4303",
   "metadata": {},
   "outputs": [],
   "source": []
  },
  {
   "cell_type": "code",
   "execution_count": null,
   "id": "0f764f34-cf03-4b65-89de-113ecdde5ccc",
   "metadata": {},
   "outputs": [],
   "source": []
  },
  {
   "cell_type": "code",
   "execution_count": null,
   "id": "c8cac4ab-faf8-4e2d-87c3-0cc69082d98b",
   "metadata": {},
   "outputs": [],
   "source": []
  },
  {
   "cell_type": "code",
   "execution_count": null,
   "id": "ee206ef2-39a1-4485-a7c7-dda40fee486b",
   "metadata": {},
   "outputs": [],
   "source": []
  },
  {
   "cell_type": "code",
   "execution_count": null,
   "id": "ff9e407c-dc9f-46fd-b4d5-045f02d21049",
   "metadata": {},
   "outputs": [],
   "source": []
  },
  {
   "cell_type": "code",
   "execution_count": null,
   "id": "0bca4c02-f664-4083-92b4-f420e283c35d",
   "metadata": {},
   "outputs": [],
   "source": []
  }
 ],
 "metadata": {
  "kernelspec": {
   "display_name": "Python 3 (ipykernel)",
   "language": "python",
   "name": "python3"
  },
  "language_info": {
   "codemirror_mode": {
    "name": "ipython",
    "version": 3
   },
   "file_extension": ".py",
   "mimetype": "text/x-python",
   "name": "python",
   "nbconvert_exporter": "python",
   "pygments_lexer": "ipython3",
   "version": "3.13.5"
  }
 },
 "nbformat": 4,
 "nbformat_minor": 5
}

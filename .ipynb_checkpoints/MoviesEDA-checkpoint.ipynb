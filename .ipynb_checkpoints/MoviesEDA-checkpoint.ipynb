{
 "cells": [
  {
   "cell_type": "code",
   "execution_count": 2,
   "id": "f3cfc4f5-a399-493f-aeb8-3eaf82f0f762",
   "metadata": {},
   "outputs": [],
   "source": [
    "import pandas as pd\n",
    "import numpy as np\n",
    "import matplotlib.pyplot as plt\n",
    "np.set_printoptions(legacy='1.25')"
   ]
  },
  {
   "cell_type": "markdown",
   "id": "7b31201c-6a52-48c2-814e-6615bd9be896",
   "metadata": {},
   "source": [
    "# Comparing Movies in different streaming services\n",
    "* Find out which genre of movies each country make the most of"
   ]
  },
  {
   "cell_type": "code",
   "execution_count": null,
   "id": "356c787f-4c80-452d-b980-b9871d5babf2",
   "metadata": {},
   "outputs": [],
   "source": []
  }
 ],
 "metadata": {
  "kernelspec": {
   "display_name": "Python 3 (ipykernel)",
   "language": "python",
   "name": "python3"
  },
  "language_info": {
   "codemirror_mode": {
    "name": "ipython",
    "version": 3
   },
   "file_extension": ".py",
   "mimetype": "text/x-python",
   "name": "python",
   "nbconvert_exporter": "python",
   "pygments_lexer": "ipython3",
   "version": "3.13.5"
  }
 },
 "nbformat": 4,
 "nbformat_minor": 5
}

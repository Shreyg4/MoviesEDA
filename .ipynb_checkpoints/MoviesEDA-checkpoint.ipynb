{
 "cells": [
  {
   "cell_type": "code",
   "execution_count": 2,
   "id": "f3cfc4f5-a399-493f-aeb8-3eaf82f0f762",
   "metadata": {},
   "outputs": [],
   "source": [
    "import pandas as pd\n",
    "import numpy as np\n",
    "import matplotlib.pyplot as plt\n",
    "np.set_printoptions(legacy='1.25')"
   ]
  },
  {
   "cell_type": "markdown",
   "id": "7b31201c-6a52-48c2-814e-6615bd9be896",
   "metadata": {},
   "source": [
    "# Comparing Movies in different streaming services\n",
    "* Find out which genre of movies each country creates the most"
   ]
  },
  {
   "cell_type": "markdown",
   "id": "08c7a727-991e-4a1f-a7fe-c05572e63f5c",
   "metadata": {},
   "source": [
    "# Cleaning Data"
   ]
  },
  {
   "cell_type": "code",
   "execution_count": 69,
   "id": "356c787f-4c80-452d-b980-b9871d5babf2",
   "metadata": {
    "scrolled": true
   },
   "outputs": [],
   "source": [
    "netflix = pd.read_csv(\"netflix_titles.csv\", index_col=\"show_id\")\n",
    "amazon = pd.read_csv(\"amazon_prime_titles.csv\", index_col=\"show_id\")\n",
    "disney = pd.read_csv(\"disney_plus_titles.csv\", index_col=\"show_id\")"
   ]
  },
  {
   "cell_type": "code",
   "execution_count": 61,
   "id": "7492b75f-eb1b-404f-809b-893e3739fcce",
   "metadata": {},
   "outputs": [],
   "source": [
    "# Drop rows with missing values in country and listed_in\n",
    "def drop_values(platform):\n",
    "    platform.dropna(subset=[\"country\", \"listed_in\"], inplace=True)\n",
    "drop_value(netflix)\n",
    "drop_value(amazon)\n",
    "drop_value(disney)"
   ]
  },
  {
   "cell_type": "code",
   "execution_count": 62,
   "id": "11645610-658f-440c-8baf-02cf4af9e3f3",
   "metadata": {},
   "outputs": [],
   "source": [
    "# Removing any TV show type\n",
    "netflix = netflix[netflix[\"type\"] == \"Movie\"]\n",
    "amazon = amazon[amazon[\"type\"] == \"Movie\"]\n",
    "disney = disney[disney[\"type\"] == \"Movie\"]"
   ]
  },
  {
   "cell_type": "code",
   "execution_count": 66,
   "id": "62317900-7caf-4548-9ee5-4208605a50e5",
   "metadata": {},
   "outputs": [],
   "source": [
    "# Focusing on Necessary Columns\n",
    "netflix = netflix[[\"title\", \"country\", \"listed_in\"]]\n",
    "amazon = amazon[[\"title\", \"country\", \"listed_in\"]]\n",
    "disney = disney[[\"title\", \"country\", \"listed_in\"]]"
   ]
  },
  {
   "cell_type": "code",
   "execution_count": 68,
   "id": "5c9b0757-8cc8-44ec-a681-3a591144885c",
   "metadata": {},
   "outputs": [
    {
     "data": {
      "text/html": [
       "<div>\n",
       "<style scoped>\n",
       "    .dataframe tbody tr th:only-of-type {\n",
       "        vertical-align: middle;\n",
       "    }\n",
       "\n",
       "    .dataframe tbody tr th {\n",
       "        vertical-align: top;\n",
       "    }\n",
       "\n",
       "    .dataframe thead th {\n",
       "        text-align: right;\n",
       "    }\n",
       "</style>\n",
       "<table border=\"1\" class=\"dataframe\">\n",
       "  <thead>\n",
       "    <tr style=\"text-align: right;\">\n",
       "      <th></th>\n",
       "      <th>title</th>\n",
       "      <th>country</th>\n",
       "      <th>listed_in</th>\n",
       "    </tr>\n",
       "    <tr>\n",
       "      <th>show_id</th>\n",
       "      <th></th>\n",
       "      <th></th>\n",
       "      <th></th>\n",
       "    </tr>\n",
       "  </thead>\n",
       "  <tbody>\n",
       "    <tr>\n",
       "      <th>s3</th>\n",
       "      <td>Ice Age: A Mammoth Christmas</td>\n",
       "      <td>United States</td>\n",
       "      <td>Animation, Comedy, Family</td>\n",
       "    </tr>\n",
       "    <tr>\n",
       "      <th>s6</th>\n",
       "      <td>Becoming Cousteau</td>\n",
       "      <td>United States</td>\n",
       "      <td>Biographical, Documentary</td>\n",
       "    </tr>\n",
       "    <tr>\n",
       "      <th>s10</th>\n",
       "      <td>A Muppets Christmas: Letters To Santa</td>\n",
       "      <td>United States</td>\n",
       "      <td>Comedy, Family, Musical</td>\n",
       "    </tr>\n",
       "    <tr>\n",
       "      <th>s13</th>\n",
       "      <td>The Pixar Story</td>\n",
       "      <td>United States</td>\n",
       "      <td>Documentary, Family</td>\n",
       "    </tr>\n",
       "    <tr>\n",
       "      <th>s20</th>\n",
       "      <td>Enchanted</td>\n",
       "      <td>United States</td>\n",
       "      <td>Comedy, Family, Fantasy</td>\n",
       "    </tr>\n",
       "    <tr>\n",
       "      <th>...</th>\n",
       "      <td>...</td>\n",
       "      <td>...</td>\n",
       "      <td>...</td>\n",
       "    </tr>\n",
       "    <tr>\n",
       "      <th>s1446</th>\n",
       "      <td>X-Men Origins: Wolverine</td>\n",
       "      <td>United States, United Kingdom</td>\n",
       "      <td>Action-Adventure, Family, Science Fiction</td>\n",
       "    </tr>\n",
       "    <tr>\n",
       "      <th>s1447</th>\n",
       "      <td>Night at the Museum: Battle of the Smithsonian</td>\n",
       "      <td>United States, Canada</td>\n",
       "      <td>Action-Adventure, Comedy, Family</td>\n",
       "    </tr>\n",
       "    <tr>\n",
       "      <th>s1448</th>\n",
       "      <td>Eddie the Eagle</td>\n",
       "      <td>United Kingdom, Germany, United States</td>\n",
       "      <td>Biographical, Comedy, Drama</td>\n",
       "    </tr>\n",
       "    <tr>\n",
       "      <th>s1449</th>\n",
       "      <td>Bend It Like Beckham</td>\n",
       "      <td>United Kingdom, Germany, United States</td>\n",
       "      <td>Buddy, Comedy, Coming of Age</td>\n",
       "    </tr>\n",
       "    <tr>\n",
       "      <th>s1450</th>\n",
       "      <td>Captain Sparky vs. The Flying Saucers</td>\n",
       "      <td>United States</td>\n",
       "      <td>Action-Adventure, Animals &amp; Nature, Animation</td>\n",
       "    </tr>\n",
       "  </tbody>\n",
       "</table>\n",
       "<p>946 rows × 3 columns</p>\n",
       "</div>"
      ],
      "text/plain": [
       "                                                  title  \\\n",
       "show_id                                                   \n",
       "s3                         Ice Age: A Mammoth Christmas   \n",
       "s6                                    Becoming Cousteau   \n",
       "s10               A Muppets Christmas: Letters To Santa   \n",
       "s13                                     The Pixar Story   \n",
       "s20                                           Enchanted   \n",
       "...                                                 ...   \n",
       "s1446                          X-Men Origins: Wolverine   \n",
       "s1447    Night at the Museum: Battle of the Smithsonian   \n",
       "s1448                                   Eddie the Eagle   \n",
       "s1449                              Bend It Like Beckham   \n",
       "s1450             Captain Sparky vs. The Flying Saucers   \n",
       "\n",
       "                                        country  \\\n",
       "show_id                                           \n",
       "s3                                United States   \n",
       "s6                                United States   \n",
       "s10                               United States   \n",
       "s13                               United States   \n",
       "s20                               United States   \n",
       "...                                         ...   \n",
       "s1446             United States, United Kingdom   \n",
       "s1447                     United States, Canada   \n",
       "s1448    United Kingdom, Germany, United States   \n",
       "s1449    United Kingdom, Germany, United States   \n",
       "s1450                             United States   \n",
       "\n",
       "                                             listed_in  \n",
       "show_id                                                 \n",
       "s3                           Animation, Comedy, Family  \n",
       "s6                           Biographical, Documentary  \n",
       "s10                            Comedy, Family, Musical  \n",
       "s13                                Documentary, Family  \n",
       "s20                            Comedy, Family, Fantasy  \n",
       "...                                                ...  \n",
       "s1446        Action-Adventure, Family, Science Fiction  \n",
       "s1447                 Action-Adventure, Comedy, Family  \n",
       "s1448                      Biographical, Comedy, Drama  \n",
       "s1449                     Buddy, Comedy, Coming of Age  \n",
       "s1450    Action-Adventure, Animals & Nature, Animation  \n",
       "\n",
       "[946 rows x 3 columns]"
      ]
     },
     "execution_count": 68,
     "metadata": {},
     "output_type": "execute_result"
    }
   ],
   "source": [
    "disney"
   ]
  },
  {
   "cell_type": "code",
   "execution_count": null,
   "id": "10d281ac-f0d6-4f96-814c-c58e4d0b4303",
   "metadata": {},
   "outputs": [],
   "source": []
  },
  {
   "cell_type": "code",
   "execution_count": null,
   "id": "0f764f34-cf03-4b65-89de-113ecdde5ccc",
   "metadata": {},
   "outputs": [],
   "source": []
  },
  {
   "cell_type": "code",
   "execution_count": null,
   "id": "c8cac4ab-faf8-4e2d-87c3-0cc69082d98b",
   "metadata": {},
   "outputs": [],
   "source": []
  },
  {
   "cell_type": "code",
   "execution_count": null,
   "id": "ee206ef2-39a1-4485-a7c7-dda40fee486b",
   "metadata": {},
   "outputs": [],
   "source": []
  },
  {
   "cell_type": "code",
   "execution_count": null,
   "id": "ff9e407c-dc9f-46fd-b4d5-045f02d21049",
   "metadata": {},
   "outputs": [],
   "source": []
  },
  {
   "cell_type": "code",
   "execution_count": null,
   "id": "0bca4c02-f664-4083-92b4-f420e283c35d",
   "metadata": {},
   "outputs": [],
   "source": []
  }
 ],
 "metadata": {
  "kernelspec": {
   "display_name": "Python 3 (ipykernel)",
   "language": "python",
   "name": "python3"
  },
  "language_info": {
   "codemirror_mode": {
    "name": "ipython",
    "version": 3
   },
   "file_extension": ".py",
   "mimetype": "text/x-python",
   "name": "python",
   "nbconvert_exporter": "python",
   "pygments_lexer": "ipython3",
   "version": "3.13.5"
  }
 },
 "nbformat": 4,
 "nbformat_minor": 5
}
